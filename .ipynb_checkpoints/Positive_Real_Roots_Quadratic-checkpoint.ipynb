{
 "cells": [
  {
   "cell_type": "code",
   "execution_count": 17,
   "metadata": {
    "tags": []
   },
   "outputs": [
    {
     "name": "stdout",
     "output_type": "stream",
     "text": [
      "\u001b[?2004h\u001b[?2004l\u001b[?2004l\u001b[?2004l\u001b[?2004l\u001b[?2004l\u001b[?2004l\u001b[?2004l"
     ]
    }
   ],
   "source": [
    "% some housekeeping stuff\n",
    "%register_graphics_toolkit (\"qt\");\n",
    "%available_graphics_toolkits ();\n",
    "%graphics_toolkit (\"qt\")\n",
    "clear\n",
    "%warning off\n",
    "format short e\n",
    "% end of housekeeping"
   ]
  },
  {
   "cell_type": "markdown",
   "metadata": {},
   "source": [
    "# Roots of a quadratic equation\n",
    "\n",
    "The general form of a quadratic equation is :\n",
    "\n",
    "$ax^2 + bx+c=0$\n",
    "\n",
    "it is possible to solve for the roots (x values where y=0) using the quadratic equation.  You can also solve numerically using this script.  Just input the values for a, b and c in the code below.\n",
    "\n",
    "This might be useful for doing assignments in CH261"
   ]
  },
  {
   "cell_type": "code",
   "execution_count": 18,
   "metadata": {
    "tags": []
   },
   "outputs": [
    {
     "name": "stdout",
     "output_type": "stream",
     "text": [
      "t = 1.1328e-074l\u001b[?2004l\u001b[?2004l\u001b[?2004l\u001b[?2004l\u001b[?2004l\n",
      "pt = 6.9459e+00l\u001b[?2004l\u001b[?2004l\u001b[?2004l\n",
      "\u001b[?2004h"
     ]
    }
   ],
   "source": [
    "ClT=25e-9; Kw=1e-14;\n",
    "a=1; b=-ClT; c=-Kw;\n",
    "t=roots([a b c]); %finds the roots\n",
    "t=t(imag(t)==0); %sets any imaginary roots to zero\n",
    "% display the positive real root\n",
    "\n",
    "t=t(t>0)\n",
    "\n",
    "% take minus log in case that might be useful (pH for example)\n",
    "\n",
    "pt=-log10(t)\n"
   ]
  },
  {
   "cell_type": "code",
   "execution_count": 19,
   "metadata": {
    "tags": []
   },
   "outputs": [
    {
     "name": "stdout",
     "output_type": "stream",
     "text": [
      "y =2004h\u001b[?2004l\n",
      "\n",
      " Columns 1 through 6:\n",
      "\n",
      "  -1.0027e-14  -1.0156e-14  -1.0029e-14  -9.6448e-15  -9.0041e-15  -8.1067e-15\n",
      "\n",
      " Columns 7 through 12:\n",
      "\n",
      "  -6.9527e-15  -5.5421e-15  -3.8748e-15  -1.9509e-15   2.2960e-16   2.6668e-15\n",
      "\n",
      " Columns 13 through 18:\n",
      "\n",
      "   5.3606e-15   8.3111e-15   1.1518e-14   1.4982e-14   1.8702e-14   2.2679e-14\n",
      "\n",
      " Columns 19 through 24:\n",
      "\n",
      "   2.6913e-14   3.1403e-14   3.6150e-14   4.1154e-14   4.6414e-14   5.1931e-14\n",
      "\n",
      " Columns 25 through 30:\n",
      "\n",
      "   5.7704e-14   6.3734e-14   7.0021e-14   7.6565e-14   8.3365e-14   9.0421e-14\n",
      "\n",
      " Columns 31 through 36:\n",
      "\n",
      "   9.7735e-14   1.0530e-13   1.1313e-13   1.2121e-13   1.2955e-13   1.3815e-13\n",
      "\n",
      " Columns 37 through 42:\n",
      "\n",
      "   1.4700e-13   1.5611e-13   1.6548e-13   1.7510e-13   1.8498e-13   1.9512e-13\n",
      "\n",
      " Columns 43 through 48:\n",
      "\n",
      "   2.0551e-13   2.1616e-13   2.2707e-13   2.3823e-13   2.4965e-13   2.6133e-13\n",
      "\n",
      " Columns 49 and 50:\n",
      "\n",
      "   2.7326e-13   2.8545e-13\n",
      "\n",
      "\u001b[?2004h\u001b[?2004l\u001b[?2004l\u001b[?2004l\u001b[?2004l\u001b[?2004l\u001b[?2004l\u001b[?2004l\u001b[?2004l"
     ]
    },
    {
     "data": {
      "image/png": "[encoded data removed]",
      "text/plain": [
       "<IPython.core.display.Image object>"
      ]
     },
     "metadata": {},
     "output_type": "display_data"
    }
   ],
   "source": [
    "x=[0.01*t:t/10:t*5];\n",
    "y=a*x.^2+b.*x+c;\n",
    "\n",
    "plot(x,y,'b-','linewidth',2)\n",
    "hold on\n",
    "plot([t t],[min(y) max(y)],'r','linewidth',2)\n",
    "plot(x,zeros(size(x)),'k','linewidth',2)\n",
    "set(gca,'linewidth',2,'fontsize',14)\n",
    "xlabel('x values','fontsize',15); ylabel('y values','fontsize',15)\n",
    "%axis([min(x) max(x) min(y) max(y)])"
   ]
  },
  {
   "cell_type": "code",
   "execution_count": null,
   "metadata": {
    "tags": []
   },
   "outputs": [],
   "source": []
  }
 ],
 "metadata": {
  "celltoolbar": "Tags",
  "kernelspec": {
   "display_name": "Octave",
   "language": "octave",
   "name": "octave"
  },
  "language_info": {
   "file_extension": ".m",
   "help_links": [
    {
     "text": "GNU Octave",
     "url": "https://www.gnu.org/software/octave/support.html"
    },
    {
     "text": "Octave Kernel",
     "url": "https://github.com/Calysto/octave_kernel"
    },
    {
     "text": "MetaKernel Magics",
     "url": "https://metakernel.readthedocs.io/en/latest/source/README.html"
    }
   ],
   "mimetype": "text/x-octave",
   "name": "octave",
   "version": "\u001b[?2004h"
  }
 },
 "nbformat": 4,
 "nbformat_minor": 4
}

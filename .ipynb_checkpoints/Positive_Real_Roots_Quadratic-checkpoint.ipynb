{
 "cells": [
  {
   "cell_type": "code",
   "execution_count": 1,
   "metadata": {},
   "outputs": [
    {
     "name": "stdout",
     "output_type": "stream",
     "text": [
      "\u001b[?2004l\n",
      "\u001b[?2004h\n",
      "\u001b[?2004l\n",
      "error: graphics_toolkit: 2004h toolkit is not available\n",
      "error: called from\n",
      "    graphics_toolkit at line 84 column 5\n",
      "\u001b[?2004h\n",
      "\u001b[?2004l\n",
      "\u001b[?2004h\n",
      "warning: using the gnuplot graphics toolkit is discouraged\n",
      "\n",
      "The gnuplot graphics toolkit is not actively maintained and has a number\n",
      "of limitations that are unlikely to be fixed.  Communication with gnuplot\n",
      "uses a one-directional pipe and limited information is passed back to the\n",
      "Octave interpreter so most changes made interactively in the plot window\n",
      "will not be reflected in the graphics properties managed by Octave.  For\n",
      "example, if the plot window is closed with a mouse click, Octave will not\n",
      "be notified and will not update its internal list of open figure windows.\n",
      "The qt toolkit is recommended instead.\n",
      "\u001b[?2004h\u001b[?2004l\u001b[?2004l"
     ]
    }
   ],
   "source": [
    "% some housekeeping stuff\n",
    "register_graphics_toolkit (\"gnuplot\");\n",
    "available_graphics_toolkits ();\n",
    "graphics_toolkit (\"gnuplot\")\n",
    "clear\n",
    "% end of housekeeping"
   ]
  },
  {
   "cell_type": "markdown",
   "metadata": {},
   "source": [
    "# Roots of a quadratic equation\n",
    "\n",
    "The general form of a quadratic equation is :\n",
    "\n",
    "$ax^2 + bx+c=0$\n",
    "\n",
    "it is possible to solve for the roots (x values where y=0) using the quadratic equation.  You can also solve numerically using this script.  Just input the values for a, b and c in the code below.\n",
    "\n",
    "This might be useful for doing assignments in CH261"
   ]
  },
  {
   "cell_type": "code",
   "execution_count": 2,
   "metadata": {},
   "outputs": [
    {
     "name": "stdout",
     "output_type": "stream",
     "text": [
      "\u001b[?2004l\n",
      "error: graphics_toolkit: 2004h toolkit is not available\n",
      "error: called from\n",
      "    graphics_toolkit at line 84 column 5\n",
      "\u001b[?2004h\n",
      "\u001b[?2004l\n",
      "\u001b[?2004h\n",
      "t = 3.4018e-034l\u001b[?2004l\u001b[?2004l\u001b[?2004l\u001b[?2004l\u001b[?2004l\u001b[?2004l\u001b[?2004l\n",
      "pt = 2.46832004l\u001b[?2004l\u001b[?2004l\u001b[?2004l\n",
      "\u001b[?2004h"
     ]
    }
   ],
   "source": [
    "%plot -s 600,500 -f 'svg'\n",
    "Kb=10^-2.981846; BT=0.0145;\n",
    "a=1;\n",
    "b=Kb;\n",
    "c=-Kb*BT;\n",
    "t=roots([a b c]); %finds the roots\n",
    "t=t(imag(t)==0); %sets any imaginary roots to zero\n",
    "% display the positive real root\n",
    "\n",
    "t=t(t>0)\n",
    "\n",
    "% take minus log in case that might be useful (pH for example)\n",
    "\n",
    "pt=-log10(t)\n"
   ]
  },
  {
   "cell_type": "code",
   "execution_count": 3,
   "metadata": {},
   "outputs": [
    {
     "name": "stdout",
     "output_type": "stream",
     "text": [
      "\u001b[?2004l\n",
      "error: graphics_toolkit: 2004h toolkit is not available\n",
      "error: called from\n",
      "    graphics_toolkit at line 84 column 5\n",
      "\u001b[?2004h\n",
      "\u001b[?2004l\n",
      "\u001b[?2004h\n",
      "\u001b[?2004h\u001b[?2004l\u001b[?2004l\u001b[?2004l\u001b[?2004l\u001b[?2004l\u001b[?2004l\u001b[?2004l"
     ]
    },
    {
     "data": {
      "image/svg+xml": [
       "<svg xmlns=\"http://www.w3.org/2000/svg\" xmlns:xlink=\"http://www.w3.org/1999/xlink\" width=\"600px\" height=\"500px\" viewBox=\"0 0 560 420\">\n",
       "\n",
       "<title>Gnuplot</title>\n",
       "<desc>Produced by GNUPLOT 5.4 patchlevel 4 </desc>\n",
       "\n",
       "<g id=\"gnuplot_canvas\">\n",
       "\n",
       "<rect x=\"0\" y=\"0\" width=\"560\" height=\"420\" fill=\"none\"/>\n",
       "<defs>\n",
       "\n",
       "\t<circle id=\"gpDot\" r=\"0.5\" stroke-width=\"0.5\" stroke=\"currentColor\"/>\n",
       "\t<path id=\"gpPt0\" stroke-width=\"0.222\" stroke=\"currentColor\" d=\"M-1,0 h2 M0,-1 v2\"/>\n",
       "\t<path id=\"gpPt1\" stroke-width=\"0.222\" stroke=\"currentColor\" d=\"M-1,-1 L1,1 M1,-1 L-1,1\"/>\n",
       "\t<path id=\"gpPt2\" stroke-width=\"0.222\" stroke=\"currentColor\" d=\"M-1,0 L1,0 M0,-1 L0,1 M-1,-1 L1,1 M-1,1 L1,-1\"/>\n",
       "\t<rect id=\"gpPt3\" stroke-width=\"0.222\" stroke=\"currentColor\" x=\"-1\" y=\"-1\" width=\"2\" height=\"2\"/>\n",
       "\t<rect id=\"gpPt4\" stroke-width=\"0.222\" stroke=\"currentColor\" fill=\"currentColor\" x=\"-1\" y=\"-1\" width=\"2\" height=\"2\"/>\n",
       "\t<circle id=\"gpPt5\" stroke-width=\"0.222\" stroke=\"currentColor\" cx=\"0\" cy=\"0\" r=\"1\"/>\n",
       "\t<use xlink:href=\"#gpPt5\" id=\"gpPt6\" fill=\"currentColor\" stroke=\"none\"/>\n",
       "\t<path id=\"gpPt7\" stroke-width=\"0.222\" stroke=\"currentColor\" d=\"M0,-1.33 L-1.33,0.67 L1.33,0.67 z\"/>\n",
       "\t<use xlink:href=\"#gpPt7\" id=\"gpPt8\" fill=\"currentColor\" stroke=\"none\"/>\n",
       "\t<use xlink:href=\"#gpPt7\" id=\"gpPt9\" stroke=\"currentColor\" transform=\"rotate(180)\"/>\n",
       "\t<use xlink:href=\"#gpPt9\" id=\"gpPt10\" fill=\"currentColor\" stroke=\"none\"/>\n",
       "\t<use xlink:href=\"#gpPt3\" id=\"gpPt11\" stroke=\"currentColor\" transform=\"rotate(45)\"/>\n",
       "\t<use xlink:href=\"#gpPt11\" id=\"gpPt12\" fill=\"currentColor\" stroke=\"none\"/>\n",
       "\t<path id=\"gpPt13\" stroke-width=\"0.222\" stroke=\"currentColor\" d=\"M0,1.330 L1.265,0.411 L0.782,-1.067 L-0.782,-1.076 L-1.265,0.411 z\"/>\n",
       "\t<use xlink:href=\"#gpPt13\" id=\"gpPt14\" fill=\"currentColor\" stroke=\"none\"/>\n",
       "\t<filter id=\"textbox\" filterUnits=\"objectBoundingBox\" x=\"0\" y=\"0\" height=\"1\" width=\"1\">\n",
       "\t  <feFlood flood-color=\"white\" flood-opacity=\"1\" result=\"bgnd\"/>\n",
       "\t  <feComposite in=\"SourceGraphic\" in2=\"bgnd\" operator=\"atop\"/>\n",
       "\t</filter>\n",
       "\t<filter id=\"greybox\" filterUnits=\"objectBoundingBox\" x=\"0\" y=\"0\" height=\"1\" width=\"1\">\n",
       "\t  <feFlood flood-color=\"lightgrey\" flood-opacity=\"1\" result=\"grey\"/>\n",
       "\t  <feComposite in=\"SourceGraphic\" in2=\"grey\" operator=\"atop\"/>\n",
       "\t</filter>\n",
       "</defs>\n",
       "<g fill=\"none\" color=\"white\" stroke=\"currentColor\" stroke-width=\"1.00\" stroke-linecap=\"butt\" stroke-linejoin=\"miter\">\n",
       "</g>\n",
       "<g fill=\"none\" color=\"black\" stroke=\"currentColor\" stroke-width=\"1.00\" stroke-linecap=\"butt\" stroke-linejoin=\"miter\">\n",
       "\t<g stroke=\"none\" shape-rendering=\"crispEdges\">\n",
       "\t\t<polygon fill=\"rgb(255, 255, 255)\" points=\"79.70,384.00 534.81,384.00 534.81,18.02 79.70,18.02 \"/>\n",
       "\t</g>\n",
       "</g>\n",
       "<g fill=\"none\" color=\"black\" stroke=\"currentColor\" stroke-width=\"1.00\" stroke-linecap=\"butt\" stroke-linejoin=\"miter\">\n",
       "\t<path stroke=\"rgb(  0,   0,   0)\" d=\"M79.70,384.00 L92.30,384.00 M534.82,384.00 L522.22,384.00  \"/>\t<g transform=\"translate(71.31,387.25)\" stroke=\"none\" fill=\"rgb(38,38,38)\" font-family=\"Arial\" font-size=\"10.00\" text-anchor=\"end\">\n",
       "\t\t<text><tspan font-family=\"Arial\">-0.0002</tspan></text>\n",
       "\t</g>\n",
       "</g>\n",
       "<g fill=\"none\" color=\"black\" stroke=\"currentColor\" stroke-width=\"1.00\" stroke-linecap=\"butt\" stroke-linejoin=\"miter\">\n",
       "\t<path stroke=\"rgb(  0,   0,   0)\" d=\"M79.70,331.72 L92.30,331.72 M534.82,331.72 L522.22,331.72  \"/>\t<g transform=\"translate(71.31,334.97)\" stroke=\"none\" fill=\"rgb(38,38,38)\" font-family=\"Arial\" font-size=\"10.00\" text-anchor=\"end\">\n",
       "\t\t<text><tspan font-family=\"Arial\">0</tspan></text>\n",
       "\t</g>\n",
       "</g>\n",
       "<g fill=\"none\" color=\"black\" stroke=\"currentColor\" stroke-width=\"1.00\" stroke-linecap=\"butt\" stroke-linejoin=\"miter\">\n",
       "\t<path stroke=\"rgb(  0,   0,   0)\" d=\"M79.70,279.43 L92.30,279.43 M534.82,279.43 L522.22,279.43  \"/>\t<g transform=\"translate(71.31,282.68)\" stroke=\"none\" fill=\"rgb(38,38,38)\" font-family=\"Arial\" font-size=\"10.00\" text-anchor=\"end\">\n",
       "\t\t<text><tspan font-family=\"Arial\">0.0002</tspan></text>\n",
       "\t</g>\n",
       "</g>\n",
       "<g fill=\"none\" color=\"black\" stroke=\"currentColor\" stroke-width=\"1.00\" stroke-linecap=\"butt\" stroke-linejoin=\"miter\">\n",
       "\t<path stroke=\"rgb(  0,   0,   0)\" d=\"M79.70,227.15 L92.30,227.15 M534.82,227.15 L522.22,227.15  \"/>\t<g transform=\"translate(71.31,230.40)\" stroke=\"none\" fill=\"rgb(38,38,38)\" font-family=\"Arial\" font-size=\"10.00\" text-anchor=\"end\">\n",
       "\t\t<text><tspan font-family=\"Arial\">0.0004</tspan></text>\n",
       "\t</g>\n",
       "</g>\n",
       "<g fill=\"none\" color=\"black\" stroke=\"currentColor\" stroke-width=\"1.00\" stroke-linecap=\"butt\" stroke-linejoin=\"miter\">\n",
       "\t<path stroke=\"rgb(  0,   0,   0)\" d=\"M79.70,174.86 L92.30,174.86 M534.82,174.86 L522.22,174.86  \"/>\t<g transform=\"translate(71.31,178.11)\" stroke=\"none\" fill=\"rgb(38,38,38)\" font-family=\"Arial\" font-size=\"10.00\" text-anchor=\"end\">\n",
       "\t\t<text><tspan font-family=\"Arial\">0.0006</tspan></text>\n",
       "\t</g>\n",
       "</g>\n",
       "<g fill=\"none\" color=\"black\" stroke=\"currentColor\" stroke-width=\"1.00\" stroke-linecap=\"butt\" stroke-linejoin=\"miter\">\n",
       "\t<path stroke=\"rgb(  0,   0,   0)\" d=\"M79.70,122.58 L92.30,122.58 M534.82,122.58 L522.22,122.58  \"/>\t<g transform=\"translate(71.31,125.83)\" stroke=\"none\" fill=\"rgb(38,38,38)\" font-family=\"Arial\" font-size=\"10.00\" text-anchor=\"end\">\n",
       "\t\t<text><tspan font-family=\"Arial\">0.0008</tspan></text>\n",
       "\t</g>\n",
       "</g>\n",
       "<g fill=\"none\" color=\"black\" stroke=\"currentColor\" stroke-width=\"1.00\" stroke-linecap=\"butt\" stroke-linejoin=\"miter\">\n",
       "\t<path stroke=\"rgb(  0,   0,   0)\" d=\"M79.70,70.29 L92.30,70.29 M534.82,70.29 L522.22,70.29  \"/>\t<g transform=\"translate(71.31,73.54)\" stroke=\"none\" fill=\"rgb(38,38,38)\" font-family=\"Arial\" font-size=\"10.00\" text-anchor=\"end\">\n",
       "\t\t<text><tspan font-family=\"Arial\">0.001</tspan></text>\n",
       "\t</g>\n",
       "</g>\n",
       "<g fill=\"none\" color=\"black\" stroke=\"currentColor\" stroke-width=\"1.00\" stroke-linecap=\"butt\" stroke-linejoin=\"miter\">\n",
       "\t<path stroke=\"rgb(  0,   0,   0)\" d=\"M79.70,18.01 L92.30,18.01 M534.82,18.01 L522.22,18.01  \"/>\t<g transform=\"translate(71.31,21.26)\" stroke=\"none\" fill=\"rgb(38,38,38)\" font-family=\"Arial\" font-size=\"10.00\" text-anchor=\"end\">\n",
       "\t\t<text><tspan font-family=\"Arial\">0.0012</tspan></text>\n",
       "\t</g>\n",
       "</g>\n",
       "<g fill=\"none\" color=\"black\" stroke=\"currentColor\" stroke-width=\"1.00\" stroke-linecap=\"butt\" stroke-linejoin=\"miter\">\n",
       "\t<path stroke=\"rgb(  0,   0,   0)\" d=\"M79.70,384.00 L79.70,371.40 M79.70,18.01 L79.70,30.61  \"/>\t<g transform=\"translate(79.70,405.25)\" stroke=\"none\" fill=\"rgb(38,38,38)\" font-family=\"Arial\" font-size=\"10.00\" text-anchor=\"middle\">\n",
       "\t\t<text><tspan font-family=\"Arial\">-0.04</tspan></text>\n",
       "\t</g>\n",
       "</g>\n",
       "<g fill=\"none\" color=\"black\" stroke=\"currentColor\" stroke-width=\"1.00\" stroke-linecap=\"butt\" stroke-linejoin=\"miter\">\n",
       "\t<path stroke=\"rgb(  0,   0,   0)\" d=\"M193.48,384.00 L193.48,371.40 M193.48,18.01 L193.48,30.61  \"/>\t<g transform=\"translate(193.48,405.25)\" stroke=\"none\" fill=\"rgb(38,38,38)\" font-family=\"Arial\" font-size=\"10.00\" text-anchor=\"middle\">\n",
       "\t\t<text><tspan font-family=\"Arial\">-0.02</tspan></text>\n",
       "\t</g>\n",
       "</g>\n",
       "<g fill=\"none\" color=\"black\" stroke=\"currentColor\" stroke-width=\"1.00\" stroke-linecap=\"butt\" stroke-linejoin=\"miter\">\n",
       "\t<path stroke=\"rgb(  0,   0,   0)\" d=\"M307.26,384.00 L307.26,371.40 M307.26,18.01 L307.26,30.61  \"/>\t<g transform=\"translate(307.26,405.25)\" stroke=\"none\" fill=\"rgb(38,38,38)\" font-family=\"Arial\" font-size=\"10.00\" text-anchor=\"middle\">\n",
       "\t\t<text><tspan font-family=\"Arial\">0</tspan></text>\n",
       "\t</g>\n",
       "</g>\n",
       "<g fill=\"none\" color=\"black\" stroke=\"currentColor\" stroke-width=\"1.00\" stroke-linecap=\"butt\" stroke-linejoin=\"miter\">\n",
       "\t<path stroke=\"rgb(  0,   0,   0)\" d=\"M421.04,384.00 L421.04,371.40 M421.04,18.01 L421.04,30.61  \"/>\t<g transform=\"translate(421.04,405.25)\" stroke=\"none\" fill=\"rgb(38,38,38)\" font-family=\"Arial\" font-size=\"10.00\" text-anchor=\"middle\">\n",
       "\t\t<text><tspan font-family=\"Arial\">0.02</tspan></text>\n",
       "\t</g>\n",
       "</g>\n",
       "<g fill=\"none\" color=\"black\" stroke=\"currentColor\" stroke-width=\"1.00\" stroke-linecap=\"butt\" stroke-linejoin=\"miter\">\n",
       "\t<path stroke=\"rgb(  0,   0,   0)\" d=\"M534.82,384.00 L534.82,371.40 M534.82,18.01 L534.82,30.61  \"/>\t<g transform=\"translate(534.82,405.25)\" stroke=\"none\" fill=\"rgb(38,38,38)\" font-family=\"Arial\" font-size=\"10.00\" text-anchor=\"middle\">\n",
       "\t\t<text><tspan font-family=\"Arial\">0.04</tspan></text>\n",
       "\t</g>\n",
       "</g>\n",
       "<g fill=\"none\" color=\"black\" stroke=\"currentColor\" stroke-width=\"1.00\" stroke-linecap=\"butt\" stroke-linejoin=\"miter\">\n",
       "</g>\n",
       "<g fill=\"none\" color=\"black\" stroke=\"currentColor\" stroke-width=\"1.00\" stroke-linecap=\"butt\" stroke-linejoin=\"miter\">\n",
       "</g>\n",
       "\t<g id=\"gnuplot_plot_1a\"><title>gnuplot_plot_1a</title>\n",
       "<g fill=\"none\" color=\"white\" stroke=\"rgb(  0,   0,   0)\" stroke-width=\"2.00\" stroke-linecap=\"butt\" stroke-linejoin=\"miter\">\n",
       "</g>\n",
       "<g fill=\"none\" color=\"black\" stroke=\"currentColor\" stroke-width=\"2.00\" stroke-linecap=\"butt\" stroke-linejoin=\"miter\">\n",
       "\t<path stroke=\"rgb(  0,   0, 255)\" d=\"M113.73,42.42 L115.67,48.35 L117.60,54.22 L119.54,60.02 L121.47,65.77 L123.41,71.46 L125.35,77.08 L127.28,82.65   L129.22,88.15 L131.15,93.59 L133.09,98.97 L135.02,104.30 L136.96,109.56 L138.89,114.76 L140.83,119.90 L142.76,124.98   L144.70,130.00 L146.63,134.96 L148.57,139.86 L150.50,144.70 L152.44,149.48 L154.37,154.19 L156.31,158.85 L158.24,163.45   L160.18,167.98 L162.12,172.46 L164.05,176.87 L165.99,181.23 L167.92,185.52 L169.86,189.75 L171.79,193.93 L173.73,198.04   L175.66,202.09 L177.60,206.08 L179.53,210.01 L181.47,213.88 L183.40,217.69 L185.34,221.44 L187.27,225.13 L189.21,228.76   L191.14,232.33 L193.08,235.83 L195.01,239.28 L196.95,242.67 L198.89,245.99 L200.82,249.26 L202.76,252.46 L204.69,255.61   L206.63,258.69 L208.56,261.71 L210.50,264.68 L212.43,267.58 L214.37,270.42 L216.30,273.20 L218.24,275.92 L220.17,278.58   L222.11,281.18 L224.04,283.72 L225.98,286.20 L227.91,288.62 L229.85,290.97 L231.78,293.27 L233.72,295.51 L235.66,297.68   L237.59,299.80 L239.53,301.86 L241.46,303.85 L243.40,305.78 L245.33,307.66 L247.27,309.47 L249.20,311.22 L251.14,312.92   L253.07,314.55 L255.01,316.12 L256.94,317.63 L258.88,319.08 L260.81,320.47 L262.75,321.80 L264.68,323.07 L266.62,324.27   L268.55,325.42 L270.49,326.51 L272.43,327.54 L274.36,328.50 L276.30,329.41 L278.23,330.25 L280.17,331.04 L282.10,331.76   L284.04,332.42 L285.97,333.03 L287.91,333.57 L289.84,334.05 L291.78,334.47 L293.71,334.83 L295.65,335.14 L297.58,335.38   L299.52,335.56 L301.45,335.67 L303.39,335.73 L305.32,335.73 L307.26,335.67 L309.20,335.55 L311.13,335.36 L313.07,335.12   L315.00,334.81 L316.94,334.45 L318.87,334.02 L320.81,333.54 L322.74,332.99 L324.68,332.38 L326.61,331.72 L328.55,330.99   L330.48,330.20 L332.42,329.35 L334.35,328.44 L336.29,327.47 L338.22,326.44 L340.16,325.35 L342.09,324.20 L344.03,322.99   L345.97,321.71 L347.90,320.38 L349.84,318.99 L351.77,317.53 L353.71,316.02 L355.64,314.44 L357.58,312.81 L359.51,311.11   L361.45,309.35 L363.38,307.54 L365.32,305.66 L367.25,303.72 L369.19,301.72 L371.12,299.66 L373.06,297.54 L374.99,295.36   L376.93,293.12 L378.86,290.82 L380.80,288.46 L382.74,286.04 L384.67,283.56 L386.61,281.01 L388.54,278.41 L390.48,275.75   L392.41,273.02 L394.35,270.24 L396.28,267.39 L398.22,264.48 L400.15,261.52 L402.09,258.49 L404.02,255.40 L405.96,252.25   L407.89,249.05 L409.83,245.78 L411.76,242.45 L413.70,239.06 L415.63,235.61 L417.57,232.10 L419.51,228.52 L421.44,224.89   L423.38,221.20 L425.31,217.45 L427.25,213.63 L429.18,209.76 L431.12,205.82 L433.05,201.83 L434.99,197.77 L436.92,193.66   L438.86,189.48 L440.79,185.24 L442.73,180.94 L444.66,176.59 L446.60,172.17 L448.53,167.69 L450.47,163.15 L452.40,158.55   L454.34,153.89 L456.28,149.17 L458.21,144.38 L460.15,139.54 L462.08,134.64 L464.02,129.68 L465.95,124.65 L467.89,119.57   L469.82,114.42 L471.76,109.22 L473.69,103.95 L475.63,98.63 L477.56,93.24 L479.50,87.79 L481.43,82.28 L483.37,76.72   L485.30,71.09 L487.24,65.40 L489.17,59.65 L491.11,53.84 L493.05,47.97 L494.98,42.04 L496.92,36.04 L498.85,29.99   L500.79,23.88  \"/></g>\n",
       "\t</g>\n",
       "\t<g id=\"gnuplot_plot_2a\"><title>gnuplot_plot_2a</title>\n",
       "<g fill=\"none\" color=\"black\" stroke=\"currentColor\" stroke-width=\"2.00\" stroke-linecap=\"butt\" stroke-linejoin=\"miter\">\n",
       "\t<path stroke=\"rgb(255,   0,   0)\" d=\"M326.61,366.52 L326.61,23.88  \"/></g>\n",
       "\t</g>\n",
       "\t<g id=\"gnuplot_plot_3a\"><title>gnuplot_plot_3a</title>\n",
       "<g fill=\"none\" color=\"black\" stroke=\"currentColor\" stroke-width=\"2.00\" stroke-linecap=\"butt\" stroke-linejoin=\"miter\">\n",
       "\t<path stroke=\"rgb(  0,   0,   0)\" d=\"M113.73,331.72 L115.67,331.72 L117.60,331.72 L119.54,331.72 L121.47,331.72 L123.41,331.72 L125.35,331.72 L127.28,331.72   L129.22,331.72 L131.15,331.72 L133.09,331.72 L135.02,331.72 L136.96,331.72 L138.89,331.72 L140.83,331.72 L142.76,331.72   L144.70,331.72 L146.63,331.72 L148.57,331.72 L150.50,331.72 L152.44,331.72 L154.37,331.72 L156.31,331.72 L158.24,331.72   L160.18,331.72 L162.12,331.72 L164.05,331.72 L165.99,331.72 L167.92,331.72 L169.86,331.72 L171.79,331.72 L173.73,331.72   L175.66,331.72 L177.60,331.72 L179.53,331.72 L181.47,331.72 L183.40,331.72 L185.34,331.72 L187.27,331.72 L189.21,331.72   L191.14,331.72 L193.08,331.72 L195.01,331.72 L196.95,331.72 L198.89,331.72 L200.82,331.72 L202.76,331.72 L204.69,331.72   L206.63,331.72 L208.56,331.72 L210.50,331.72 L212.43,331.72 L214.37,331.72 L216.30,331.72 L218.24,331.72 L220.17,331.72   L222.11,331.72 L224.04,331.72 L225.98,331.72 L227.91,331.72 L229.85,331.72 L231.78,331.72 L233.72,331.72 L235.66,331.72   L237.59,331.72 L239.53,331.72 L241.46,331.72 L243.40,331.72 L245.33,331.72 L247.27,331.72 L249.20,331.72 L251.14,331.72   L253.07,331.72 L255.01,331.72 L256.94,331.72 L258.88,331.72 L260.81,331.72 L262.75,331.72 L264.68,331.72 L266.62,331.72   L268.55,331.72 L270.49,331.72 L272.43,331.72 L274.36,331.72 L276.30,331.72 L278.23,331.72 L280.17,331.72 L282.10,331.72   L284.04,331.72 L285.97,331.72 L287.91,331.72 L289.84,331.72 L291.78,331.72 L293.71,331.72 L295.65,331.72 L297.58,331.72   L299.52,331.72 L301.45,331.72 L303.39,331.72 L305.32,331.72 L307.26,331.72 L309.20,331.72 L311.13,331.72 L313.07,331.72   L315.00,331.72 L316.94,331.72 L318.87,331.72 L320.81,331.72 L322.74,331.72 L324.68,331.72 L326.61,331.72 L328.55,331.72   L330.48,331.72 L332.42,331.72 L334.35,331.72 L336.29,331.72 L338.22,331.72 L340.16,331.72 L342.09,331.72 L344.03,331.72   L345.97,331.72 L347.90,331.72 L349.84,331.72 L351.77,331.72 L353.71,331.72 L355.64,331.72 L357.58,331.72 L359.51,331.72   L361.45,331.72 L363.38,331.72 L365.32,331.72 L367.25,331.72 L369.19,331.72 L371.12,331.72 L373.06,331.72 L374.99,331.72   L376.93,331.72 L378.86,331.72 L380.80,331.72 L382.74,331.72 L384.67,331.72 L386.61,331.72 L388.54,331.72 L390.48,331.72   L392.41,331.72 L394.35,331.72 L396.28,331.72 L398.22,331.72 L400.15,331.72 L402.09,331.72 L404.02,331.72 L405.96,331.72   L407.89,331.72 L409.83,331.72 L411.76,331.72 L413.70,331.72 L415.63,331.72 L417.57,331.72 L419.51,331.72 L421.44,331.72   L423.38,331.72 L425.31,331.72 L427.25,331.72 L429.18,331.72 L431.12,331.72 L433.05,331.72 L434.99,331.72 L436.92,331.72   L438.86,331.72 L440.79,331.72 L442.73,331.72 L444.66,331.72 L446.60,331.72 L448.53,331.72 L450.47,331.72 L452.40,331.72   L454.34,331.72 L456.28,331.72 L458.21,331.72 L460.15,331.72 L462.08,331.72 L464.02,331.72 L465.95,331.72 L467.89,331.72   L469.82,331.72 L471.76,331.72 L473.69,331.72 L475.63,331.72 L477.56,331.72 L479.50,331.72 L481.43,331.72 L483.37,331.72   L485.30,331.72 L487.24,331.72 L489.17,331.72 L491.11,331.72 L493.05,331.72 L494.98,331.72 L496.92,331.72 L498.85,331.72   L500.79,331.72  \"/></g>\n",
       "\t</g>\n",
       "<g fill=\"none\" color=\"black\" stroke=\"currentColor\" stroke-width=\"2.00\" stroke-linecap=\"butt\" stroke-linejoin=\"miter\">\n",
       "</g>\n",
       "<g fill=\"none\" color=\"black\" stroke=\"black\" stroke-width=\"0.50\" stroke-linecap=\"butt\" stroke-linejoin=\"miter\">\n",
       "\t<path stroke=\"rgb( 38,  38,  38)\" d=\"M79.71,383.99 L534.83,383.99 M79.71,18.00 L534.83,18.00 M79.71,383.99 L79.71,18.00 M534.83,383.99 L534.83,18.00    \"/></g>\n",
       "<g fill=\"none\" color=\"black\" stroke=\"rgb( 38,  38,  38)\" stroke-width=\"1.00\" stroke-linecap=\"butt\" stroke-linejoin=\"miter\">\n",
       "</g>\n",
       "<g fill=\"none\" color=\"black\" stroke=\"currentColor\" stroke-width=\"1.00\" stroke-linecap=\"butt\" stroke-linejoin=\"miter\">\n",
       "</g>\n",
       "</g>\n",
       "</svg>"
      ],
      "text/plain": [
       "<IPython.core.display.SVG object>"
      ]
     },
     "metadata": {},
     "output_type": "display_data"
    }
   ],
   "source": [
    "%plot -s 600,500 -f 'svg'\n",
    "\n",
    "x=[-10*t:t/10:t*10];\n",
    "y=a*x.^2+b.*x+c;\n",
    "\n",
    "plot(x,y,'b-','linewidth',2)\n",
    "hold on\n",
    "plot([t t],[min(y)-0.1*max(y) max(y)],'r','linewidth',2)\n",
    "plot(x,zeros(size(x)),'k','linewidth',2)"
   ]
  },
  {
   "cell_type": "code",
   "execution_count": null,
   "metadata": {},
   "outputs": [],
   "source": []
  }
 ],
 "metadata": {
  "kernelspec": {
   "display_name": "Octave",
   "language": "octave",
   "name": "octave"
  },
  "language_info": {
   "file_extension": ".m",
   "help_links": [
    {
     "text": "GNU Octave",
     "url": "https://www.gnu.org/software/octave/support.html"
    },
    {
     "text": "Octave Kernel",
     "url": "https://github.com/Calysto/octave_kernel"
    },
    {
     "text": "MetaKernel Magics",
     "url": "https://metakernel.readthedocs.io/en/latest/source/README.html"
    }
   ],
   "mimetype": "text/x-octave",
   "name": "octave",
   "version": "\u001b[?2004h"
  }
 },
 "nbformat": 4,
 "nbformat_minor": 4
}

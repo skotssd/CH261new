{
 "cells": [
  {
   "cell_type": "code",
   "execution_count": 1,
   "metadata": {},
   "outputs": [
    {
     "name": "stdout",
     "output_type": "stream",
     "text": [
      "\u001b[?2004h\u001b[?2004l\u001b[?2004l\u001b[?2004l\u001b[?2004l\u001b[?2004l\u001b[?2004l\u001b[?2004l"
     ]
    }
   ],
   "source": [
    "% some housekeeping stuff\n",
    "register_graphics_toolkit (\"gnuplot\");\n",
    "%available_graphics_toolkits ();\n",
    "%graphics_toolkit (\"qt\")\n",
    "clear\n",
    "%warning off\n",
    "format short e\n",
    "% end of housekeeping"
   ]
  },
  {
   "cell_type": "markdown",
   "metadata": {},
   "source": [
    "# Strong Acids\n",
    "\n",
    "For HCl in water (for example) the electroneutrality expression can be written:\n",
    "\n",
    "$[\\mathrm{H}^+]=[\\mathrm{OH}^-]+[\\mathrm{Cl}^-]$\n",
    "\n",
    "And with substitution of the Kw expression for [H+] and substituting in the total chloride for [Cl-]\n",
    "\n",
    "$[\\mathrm{H}^+]=\\dfrac{K_w}{[\\mathrm{H}^+]}+\\mathrm{Cl_T}$\n",
    "\n",
    "Depnding on the $\\mathrm{Cl_T}$ value we can solve the quadratic equation to determine pH, or use the simplifying assumption that [H+]>>[OH-] and solve the reduced equation [H+]=ClT."
   ]
  },
  {
   "cell_type": "code",
   "execution_count": 2,
   "metadata": {},
   "outputs": [
    {
     "name": "stdout",
     "output_type": "stream",
     "text": [
      "\u001b[?2004h\u001b[?2004l\u001b[?2004l\u001b[?2004l\u001b[?2004l\u001b[?2004l\u001b[?2004l\u001b[?2004l\u001b[?2004l\u001b[?2004l\u001b[?2004l\u001b[?2004l\u001b[?2004l"
     ]
    },
    {
     "name": "stderr",
     "output_type": "stream",
     "text": [
      "\u001b[0;31mInline plot failed, consider trying another graphics toolkit\n",
      "error: print: rendering with fltk toolkit requires visible figure (DISPLAY=':0')\n",
      "error: called from\n",
      "    _make_figures>safe_print at line 125 column 7\n",
      "    _make_figures at line 49 column 13\n",
      "\u001b[?2004h\n",
      "\u001b[0m"
     ]
    }
   ],
   "source": [
    "logClT=-9:0.1:-2; ClT=10.^logClT;\n",
    "Kw=1e-14;\n",
    "for i=1:size(logClT,2)\n",
    "    a=1; b=-ClT(i); c=-Kw;\n",
    "    t=roots([a b c]);\n",
    "    H=t(real(t)>0&imag(t)==0);\n",
    "    pHexact(i)=-log10(H);\n",
    "end\n",
    "plot(logClT,pHexact,'linewidth',2)\n",
    "set(gca,'linewidth',2,'fontsize',12)\n",
    "xlabel('logCl_T','fontsize',12)\n",
    "ylabel('pH','fontsize',12)\n",
    "title('solve full quadratic (exact solution)','fontsize',14)\n",
    "    "
   ]
  },
  {
   "cell_type": "code",
   "execution_count": 3,
   "metadata": {},
   "outputs": [
    {
     "name": "stdout",
     "output_type": "stream",
     "text": [
      "\u001b[?2004h\u001b[?2004l\u001b[?2004l\u001b[?2004l\u001b[?2004l\u001b[?2004l\u001b[?2004l\u001b[?2004l\u001b[?2004l\u001b[?2004l"
     ]
    },
    {
     "name": "stderr",
     "output_type": "stream",
     "text": [
      "\u001b[0;31mInline plot failed, consider trying another graphics toolkit\n",
      "error: print: rendering with fltk toolkit requires visible figure (DISPLAY=':0')\n",
      "error: called from\n",
      "    _make_figures>safe_print at line 125 column 7\n",
      "    _make_figures at line 49 column 13\n",
      "\u001b[?2004h\n",
      "\u001b[0m"
     ]
    }
   ],
   "source": [
    "for i=1:size(logClT,2)\n",
    "    H=ClT(i);\n",
    "    pHapprox(i)=-log10(H);\n",
    "end\n",
    "plot(logClT,pHexact,'linewidth',2,logClT,pHapprox,'g','linewidth',2)\n",
    "legend('exact','approx')\n",
    "set(gca,'linewidth',2,'fontsize',12)\n",
    "xlabel('logCl_T','fontsize',12)\n",
    "ylabel('pH','fontsize',12)\n",
    "title('... also approx solution','fontsize',14)"
   ]
  },
  {
   "cell_type": "code",
   "execution_count": null,
   "metadata": {},
   "outputs": [],
   "source": []
  }
 ],
 "metadata": {
  "kernelspec": {
   "display_name": "Octave",
   "language": "octave",
   "name": "octave"
  },
  "language_info": {
   "file_extension": ".m",
   "help_links": [
    {
     "text": "GNU Octave",
     "url": "https://www.gnu.org/software/octave/support.html"
    },
    {
     "text": "Octave Kernel",
     "url": "https://github.com/Calysto/octave_kernel"
    },
    {
     "text": "MetaKernel Magics",
     "url": "https://metakernel.readthedocs.io/en/latest/source/README.html"
    }
   ],
   "mimetype": "text/x-octave",
   "name": "octave",
   "version": "\u001b[?2004h"
  }
 },
 "nbformat": 4,
 "nbformat_minor": 4
}

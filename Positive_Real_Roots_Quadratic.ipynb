{
 "cells": [
  {
   "cell_type": "code",
   "execution_count": 1,
   "metadata": {
    "tags": []
   },
   "outputs": [
    {
     "name": "stdout",
     "output_type": "stream",
     "text": [
      "warning: using the gnuplot graphics toolkit is discouraged\n",
      "\n",
      "The gnuplot graphics toolkit is not actively maintained and has a number\n",
      "of limitations that are unlikely to be fixed.  Communication with gnuplot\n",
      "uses a one-directional pipe and limited information is passed back to the\n",
      "Octave interpreter so most changes made interactively in the plot window\n",
      "will not be reflected in the graphics properties managed by Octave.  For\n",
      "example, if the plot window is closed with a mouse click, Octave will not\n",
      "be notified and will not update its internal list of open figure windows.\n",
      "The qt toolkit is recommended instead.\n"
     ]
    }
   ],
   "source": [
    "% some housekeeping stuff\n",
    "register_graphics_toolkit (\"gnuplot\");\n",
    "%available_graphics_toolkits ();\n",
    "graphics_toolkit (\"gnuplot\")\n",
    "clear\n",
    "%warning off\n",
    "format short e\n",
    "% end of housekeeping"
   ]
  },
  {
   "cell_type": "markdown",
   "metadata": {},
   "source": [
    "# Roots of a quadratic equation\n",
    "\n",
    "The general form of a quadratic equation is :\n",
    "\n",
    "$ax^2 + bx+c=0$\n",
    "\n",
    "it is possible to solve for the roots (x values where y=0) using the quadratic equation.  You can also solve numerically using this script.  Just input the values for a, b and c in the code below.\n",
    "\n",
    "This might be useful for doing assignments in CH261"
   ]
  },
  {
   "cell_type": "code",
   "execution_count": 2,
   "metadata": {
    "tags": []
   },
   "outputs": [
    {
     "name": "stdout",
     "output_type": "stream",
     "text": [
      "t = 2.3711e-06\n",
      "pt = 5.6251e+00\n",
      "ans = 8.3749e+00\n"
     ]
    }
   ],
   "source": [
    "Ka=10^-9.25; ClT=0.01; NH3T=0.01;\n",
    "a=1; b=Ka; c=-Ka*ClT;\n",
    "t=roots([a b c]); %finds the roots\n",
    "t=t(imag(t)==0); %sets any imaginary roots to zero\n",
    "% display the positive real root\n",
    "\n",
    "t=t(t>0)\n",
    "\n",
    "% take minus log in case that might be useful (pH for example)\n",
    "\n",
    "pt=-log10(t)\n",
    "14-pt\n"
   ]
  },
  {
   "cell_type": "code",
   "execution_count": 3,
   "metadata": {
    "tags": []
   },
   "outputs": [
    {
     "data": {
      "image/png": "[encoded data removed]",
      "text/plain": [
       "<IPython.core.display.Image object>"
      ]
     },
     "metadata": {},
     "output_type": "display_data"
    }
   ],
   "source": [
    "x=[0.01*t:t/10:t*5];\n",
    "y=a*x.^2+b.*x+c;\n",
    "\n",
    "plot(x,y,'b-','linewidth',2)\n",
    "hold on\n",
    "plot([t t],[min(y) max(y)],'r','linewidth',2)\n",
    "plot(x,zeros(size(x)),'k','linewidth',2)\n",
    "set(gca,'linewidth',2,'fontsize',14)\n",
    "xlabel('x values','fontsize',15); ylabel('y values','fontsize',15)\n",
    "%axis([min(x) max(x) min(y) max(y)])"
   ]
  },
  {
   "cell_type": "code",
   "execution_count": null,
   "metadata": {
    "tags": []
   },
   "outputs": [],
   "source": []
  }
 ],
 "metadata": {
  "celltoolbar": "Tags",
  "kernelspec": {
   "display_name": "Octave",
   "language": "octave",
   "name": "octave"
  },
  "language_info": {
   "file_extension": ".m",
   "help_links": [
    {
     "text": "GNU Octave",
     "url": "https://www.gnu.org/software/octave/support.html"
    },
    {
     "text": "Octave Kernel",
     "url": "https://github.com/Calysto/octave_kernel"
    },
    {
     "text": "MetaKernel Magics",
     "url": "https://metakernel.readthedocs.io/en/latest/source/README.html"
    }
   ],
   "mimetype": "text/x-octave",
   "name": "octave",
   "version": "7.2.0"
  }
 },
 "nbformat": 4,
 "nbformat_minor": 4
}

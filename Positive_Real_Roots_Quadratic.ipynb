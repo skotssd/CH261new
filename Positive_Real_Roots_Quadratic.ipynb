{
 "cells": [
  {
   "cell_type": "code",
   "execution_count": 2,
   "metadata": {},
   "outputs": [
    {
     "name": "stdout",
     "output_type": "stream",
     "text": [
      "\u001b[?2004h\u001b[?2004l\u001b[?2004l\u001b[?2004l\u001b[?2004l\u001b[?2004l\u001b[?2004l"
     ]
    }
   ],
   "source": [
    "% some housekeeping stuff\n",
    "register_graphics_toolkit (\"qt\");\n",
    "available_graphics_toolkits ();\n",
    "graphics_toolkit (\"qt\")\n",
    "clear\n",
    "warning off\n",
    "% end of housekeeping"
   ]
  },
  {
   "cell_type": "markdown",
   "metadata": {},
   "source": [
    "# Roots of a quadratic equation\n",
    "\n",
    "The general form of a quadratic equation is :\n",
    "\n",
    "$ax^2 + bx+c=0$\n",
    "\n",
    "it is possible to solve for the roots (x values where y=0) using the quadratic equation.  You can also solve numerically using this script.  Just input the values for a, b and c in the code below.\n",
    "\n",
    "This might be useful for doing assignments in CH261"
   ]
  },
  {
   "cell_type": "code",
   "execution_count": 3,
   "metadata": {},
   "outputs": [
    {
     "name": "stdout",
     "output_type": "stream",
     "text": [
      "\u001b[?2004l\n",
      "error: graphics_toolkit: 2004h toolkit is not available\n",
      "error: called from\n",
      "    graphics_toolkit at line 84 column 5\n",
      "\u001b[?2004h\n",
      "\u001b[?2004l\n",
      "\u001b[?2004h\n",
      "t = 3.4018e-034l\u001b[?2004l\u001b[?2004l\u001b[?2004l\u001b[?2004l\u001b[?2004l\u001b[?2004l\u001b[?2004l\n",
      "pt = 2.46832004l\u001b[?2004l\u001b[?2004l\u001b[?2004l\n",
      "\u001b[?2004h"
     ]
    }
   ],
   "source": [
    "%plot -s 600,500 -f 'svg'\n",
    "Kb=10^-2.981846; BT=0.0145;\n",
    "a=1;\n",
    "b=Kb;\n",
    "c=-Kb*BT;\n",
    "t=roots([a b c]); %finds the roots\n",
    "t=t(imag(t)==0); %sets any imaginary roots to zero\n",
    "% display the positive real root\n",
    "\n",
    "t=t(t>0)\n",
    "\n",
    "% take minus log in case that might be useful (pH for example)\n",
    "\n",
    "pt=-log10(t)\n"
   ]
  },
  {
   "cell_type": "code",
   "execution_count": 4,
   "metadata": {},
   "outputs": [
    {
     "name": "stdout",
     "output_type": "stream",
     "text": [
      "\u001b[?2004l\n",
      "error: graphics_toolkit: 2004h toolkit is not available\n",
      "error: called from\n",
      "    graphics_toolkit at line 84 column 5\n",
      "\u001b[?2004h\n",
      "\u001b[?2004l\n",
      "\u001b[?2004h\n",
      "\u001b[?2004h\u001b[?2004l\u001b[?2004l\u001b[?2004l\u001b[?2004l\u001b[?2004l\u001b[?2004l\u001b[?2004l"
     ]
    },
    {
     "data": {
      "image/svg+xml": [
       "<svg xmlns:xlink=\"http://www.w3.org/1999/xlink\" xmlns=\"http://www.w3.org/2000/svg\" height=\"500px\" width=\"600px\" viewBox=\"0 0 600 500\">\n",
       " <title>Figure 1</title>\n",
       " <desc>\n",
       "Creator: GL2PS 1.4.2, (C) 1999-2020 C. Geuzaine\n",
       "For: Octave\n",
       "CreationDate: Thu Aug 18 15:24:37 2022\n",
       "</desc>\n",
       " <defs/>\n",
       " <polygon fill=\"#ffffff\" points=\"0,0 600,0 600,500 0,500\"/>\n",
       " <g>\n",
       "  <polygon fill=\"#ffffff\" shape-rendering=\"crispEdges\" points=\"0,500 600,500 600,0 0,0\"/>\n",
       "  <clipPath id=\"cp00600500\">\n",
       "   <polygon points=\"0,500 600,500 600,0 0,0\"/>\n",
       "  </clipPath>\n",
       "  <g clip-path=\"url(#cp00600500)\">\n",
       "   <polygon fill=\"#ffffff\" shape-rendering=\"crispEdges\" points=\"78,445 543,445 543,37.5 78,37.5\"/>\n",
       "   <polyline fill=\"none\" stroke-width=\"0.5\" stroke=\"#262626\" stroke-linejoin=\"miter\" stroke-linecap=\"butt\" points=\"78,445 78,440.355\"/>\n",
       "   <polyline fill=\"none\" stroke-width=\"0.5\" stroke=\"#262626\" stroke-linejoin=\"miter\" stroke-linecap=\"butt\" points=\"78,37.5 78,42.1445\"/>\n",
       "   <polyline fill=\"none\" stroke-width=\"0.5\" stroke=\"#262626\" stroke-linejoin=\"miter\" stroke-linecap=\"butt\" points=\"194.25,445 194.25,440.355\"/>\n",
       "   <polyline fill=\"none\" stroke-width=\"0.5\" stroke=\"#262626\" stroke-linejoin=\"miter\" stroke-linecap=\"butt\" points=\"194.25,37.5 194.25,42.1445\"/>\n",
       "   <polyline fill=\"none\" stroke-width=\"0.5\" stroke=\"#262626\" stroke-linejoin=\"miter\" stroke-linecap=\"butt\" points=\"310.5,445 310.5,440.355\"/>\n",
       "   <polyline fill=\"none\" stroke-width=\"0.5\" stroke=\"#262626\" stroke-linejoin=\"miter\" stroke-linecap=\"butt\" points=\"310.5,37.5 310.5,42.1445\"/>\n",
       "   <polyline fill=\"none\" stroke-width=\"0.5\" stroke=\"#262626\" stroke-linejoin=\"miter\" stroke-linecap=\"butt\" points=\"426.75,445 426.75,440.355\"/>\n",
       "   <polyline fill=\"none\" stroke-width=\"0.5\" stroke=\"#262626\" stroke-linejoin=\"miter\" stroke-linecap=\"butt\" points=\"426.75,37.5 426.75,42.1445\"/>\n",
       "   <polyline fill=\"none\" stroke-width=\"0.5\" stroke=\"#262626\" stroke-linejoin=\"miter\" stroke-linecap=\"butt\" points=\"543,445 543,440.355\"/>\n",
       "   <polyline fill=\"none\" stroke-width=\"0.5\" stroke=\"#262626\" stroke-linejoin=\"miter\" stroke-linecap=\"butt\" points=\"543,37.5 543,42.1445\"/>\n",
       "   <g xml:space=\"preserve\" transform=\"translate(65.5,461.925) rotate(-0,12.5,-9)\" font-family=\"FreeSans\" font-style=\"normal\" font-size=\"10.5801\" font-weight=\"normal\">\n",
       "    <text fill=\"rgb(38,38,38)\" y=\"-0\" x=\"0 4 10 13 19 \">-0.04</text>\n",
       "   </g>\n",
       "   <g xml:space=\"preserve\" transform=\"translate(181.75,461.925) rotate(-0,12.5,-9)\" font-family=\"FreeSans\" font-style=\"normal\" font-size=\"10.5801\" font-weight=\"normal\">\n",
       "    <text fill=\"rgb(38,38,38)\" y=\"-0\" x=\"0 4 10 13 19 \">-0.02</text>\n",
       "   </g>\n",
       "   <g xml:space=\"preserve\" transform=\"translate(307.5,461.925) rotate(-0,3,-9)\" font-family=\"FreeSans\" font-style=\"normal\" font-size=\"10.5801\" font-weight=\"normal\">\n",
       "    <text fill=\"rgb(38,38,38)\" y=\"-0\" x=\"0 \">0</text>\n",
       "   </g>\n",
       "   <g xml:space=\"preserve\" transform=\"translate(416.25,461.925) rotate(-0,10.5,-9)\" font-family=\"FreeSans\" font-style=\"normal\" font-size=\"10.5801\" font-weight=\"normal\">\n",
       "    <text fill=\"rgb(38,38,38)\" y=\"-0\" x=\"0 6 9 15 \">0.02</text>\n",
       "   </g>\n",
       "   <g xml:space=\"preserve\" transform=\"translate(532.5,461.925) rotate(-0,10.5,-9)\" font-family=\"FreeSans\" font-style=\"normal\" font-size=\"10.5801\" font-weight=\"normal\">\n",
       "    <text fill=\"rgb(38,38,38)\" y=\"-0\" x=\"0 6 9 15 \">0.04</text>\n",
       "   </g>\n",
       "   <polyline fill=\"none\" stroke-width=\"0.5\" stroke=\"#262626\" stroke-linejoin=\"miter\" stroke-linecap=\"butt\" points=\"78,445 82.6499,445\"/>\n",
       "   <polyline fill=\"none\" stroke-width=\"0.5\" stroke=\"#262626\" stroke-linejoin=\"miter\" stroke-linecap=\"butt\" points=\"543,445 538.35,445\"/>\n",
       "   <polyline fill=\"none\" stroke-width=\"0.5\" stroke=\"#262626\" stroke-linejoin=\"miter\" stroke-linecap=\"butt\" points=\"78,386.786 82.6499,386.786\"/>\n",
       "   <polyline fill=\"none\" stroke-width=\"0.5\" stroke=\"#262626\" stroke-linejoin=\"miter\" stroke-linecap=\"butt\" points=\"543,386.786 538.35,386.786\"/>\n",
       "   <polyline fill=\"none\" stroke-width=\"0.5\" stroke=\"#262626\" stroke-linejoin=\"miter\" stroke-linecap=\"butt\" points=\"78,328.571 82.6499,328.571\"/>\n",
       "   <polyline fill=\"none\" stroke-width=\"0.5\" stroke=\"#262626\" stroke-linejoin=\"miter\" stroke-linecap=\"butt\" points=\"543,328.571 538.35,328.571\"/>\n",
       "   <polyline fill=\"none\" stroke-width=\"0.5\" stroke=\"#262626\" stroke-linejoin=\"miter\" stroke-linecap=\"butt\" points=\"78,270.357 82.6499,270.357\"/>\n",
       "   <polyline fill=\"none\" stroke-width=\"0.5\" stroke=\"#262626\" stroke-linejoin=\"miter\" stroke-linecap=\"butt\" points=\"543,270.357 538.35,270.357\"/>\n",
       "   <polyline fill=\"none\" stroke-width=\"0.5\" stroke=\"#262626\" stroke-linejoin=\"miter\" stroke-linecap=\"butt\" points=\"78,212.143 82.6499,212.143\"/>\n",
       "   <polyline fill=\"none\" stroke-width=\"0.5\" stroke=\"#262626\" stroke-linejoin=\"miter\" stroke-linecap=\"butt\" points=\"543,212.143 538.35,212.143\"/>\n",
       "   <polyline fill=\"none\" stroke-width=\"0.5\" stroke=\"#262626\" stroke-linejoin=\"miter\" stroke-linecap=\"butt\" points=\"78,153.929 82.6499,153.929\"/>\n",
       "   <polyline fill=\"none\" stroke-width=\"0.5\" stroke=\"#262626\" stroke-linejoin=\"miter\" stroke-linecap=\"butt\" points=\"543,153.929 538.35,153.929\"/>\n",
       "   <polyline fill=\"none\" stroke-width=\"0.5\" stroke=\"#262626\" stroke-linejoin=\"miter\" stroke-linecap=\"butt\" points=\"78,95.7144 82.6499,95.7144\"/>\n",
       "   <polyline fill=\"none\" stroke-width=\"0.5\" stroke=\"#262626\" stroke-linejoin=\"miter\" stroke-linecap=\"butt\" points=\"543,95.7144 538.35,95.7144\"/>\n",
       "   <polyline fill=\"none\" stroke-width=\"0.5\" stroke=\"#262626\" stroke-linejoin=\"miter\" stroke-linecap=\"butt\" points=\"78,37.5 82.6499,37.5\"/>\n",
       "   <polyline fill=\"none\" stroke-width=\"0.5\" stroke=\"#262626\" stroke-linejoin=\"miter\" stroke-linecap=\"butt\" points=\"543,37.5 538.35,37.5\"/>\n",
       "   <g xml:space=\"preserve\" transform=\"translate(35.71,449.5) rotate(-0,37,-4.5)\" font-family=\"FreeSans\" font-style=\"normal\" font-size=\"10.5801\" font-weight=\"normal\">\n",
       "    <text fill=\"rgb(38,38,38)\" y=\"-0\" x=\"0 4 10 13 19 25 31 \">-0.0002</text>\n",
       "   </g>\n",
       "   <g xml:space=\"preserve\" transform=\"translate(66.71,391.286) rotate(-0,6,-4.5)\" font-family=\"FreeSans\" font-style=\"normal\" font-size=\"10.5801\" font-weight=\"normal\">\n",
       "    <text fill=\"rgb(38,38,38)\" y=\"-0\" x=\"0 \">0</text>\n",
       "   </g>\n",
       "   <g xml:space=\"preserve\" transform=\"translate(39.71,333.071) rotate(-0,33,-4.5)\" font-family=\"FreeSans\" font-style=\"normal\" font-size=\"10.5801\" font-weight=\"normal\">\n",
       "    <text fill=\"rgb(38,38,38)\" y=\"-0\" x=\"0 6 9 15 21 27 \">0.0002</text>\n",
       "   </g>\n",
       "   <g xml:space=\"preserve\" transform=\"translate(39.71,274.857) rotate(-0,33,-4.5)\" font-family=\"FreeSans\" font-style=\"normal\" font-size=\"10.5801\" font-weight=\"normal\">\n",
       "    <text fill=\"rgb(38,38,38)\" y=\"-0\" x=\"0 6 9 15 21 27 \">0.0004</text>\n",
       "   </g>\n",
       "   <g xml:space=\"preserve\" transform=\"translate(39.71,216.643) rotate(-0,33,-4.5)\" font-family=\"FreeSans\" font-style=\"normal\" font-size=\"10.5801\" font-weight=\"normal\">\n",
       "    <text fill=\"rgb(38,38,38)\" y=\"-0\" x=\"0 6 9 15 21 27 \">0.0006</text>\n",
       "   </g>\n",
       "   <g xml:space=\"preserve\" transform=\"translate(39.71,158.429) rotate(-0,33,-4.5)\" font-family=\"FreeSans\" font-style=\"normal\" font-size=\"10.5801\" font-weight=\"normal\">\n",
       "    <text fill=\"rgb(38,38,38)\" y=\"-0\" x=\"0 6 9 15 21 27 \">0.0008</text>\n",
       "   </g>\n",
       "   <g xml:space=\"preserve\" transform=\"translate(45.71,100.214) rotate(-0,27,-4.5)\" font-family=\"FreeSans\" font-style=\"normal\" font-size=\"10.5801\" font-weight=\"normal\">\n",
       "    <text fill=\"rgb(38,38,38)\" y=\"-0\" x=\"0 6 9 15 21 \">0.001</text>\n",
       "   </g>\n",
       "   <g xml:space=\"preserve\" transform=\"translate(39.71,42) rotate(-0,33,-4.5)\" font-family=\"FreeSans\" font-style=\"normal\" font-size=\"10.5801\" font-weight=\"normal\">\n",
       "    <text fill=\"rgb(38,38,38)\" y=\"-0\" x=\"0 6 9 15 21 27 \">0.0012</text>\n",
       "   </g>\n",
       "   <polyline fill=\"none\" stroke-width=\"0.5\" stroke=\"#262626\" stroke-linejoin=\"miter\" stroke-dasharray=\"16,0\" stroke-linecap=\"square\" points=\"78,445 543,445\"/>\n",
       "   <polyline fill=\"none\" stroke-width=\"0.5\" stroke=\"#262626\" stroke-linejoin=\"miter\" stroke-dasharray=\"16,0\" stroke-linecap=\"square\" points=\"78,37.5 543,37.5\"/>\n",
       "   <polyline fill=\"none\" stroke-width=\"0.5\" stroke=\"#262626\" stroke-linejoin=\"miter\" stroke-dasharray=\"16,0\" stroke-linecap=\"square\" points=\"78,445 78,37.5\"/>\n",
       "   <polyline fill=\"none\" stroke-width=\"0.5\" stroke=\"#262626\" stroke-linejoin=\"miter\" stroke-dasharray=\"16,0\" stroke-linecap=\"square\" points=\"543,445 543,37.5\"/>\n",
       "   <polyline fill=\"none\" stroke-width=\"2\" stroke=\"#0000ff\" stroke-linejoin=\"round\" stroke-linecap=\"butt\" points=\"112.772,64.6831 114.75,71.2827 116.727,77.8149 118.705,84.2798 120.682,90.6772 122.659,97.0073 124.636,103.271 126.613,109.466 128.591,115.594 130.568,121.655 132.545,127.648 134.522,133.574 136.5,139.433 138.477,145.224 140.455,150.948 142.432,156.604 144.409,162.193 146.386,167.715 148.363,173.169 150.341,178.557 152.318,183.876 154.295,189.128 156.272,194.313 158.25,199.431 160.227,204.481 162.205,209.464 164.182,214.379 166.159,219.228 168.136,224.008 170.113,228.722 172.091,233.368 174.068,237.947 176.045,242.458 178.022,246.902 180,251.278 181.977,255.587 183.955,259.83 185.932,264.004 187.909,268.111 189.886,272.151 191.863,276.123 193.841,280.028 195.818,283.866 197.795,287.636 199.772,291.339 201.75,294.975 203.727,298.542 205.705,302.043 207.682,305.477 209.659,308.843 211.636,312.142 213.614,315.373 215.591,318.537 217.568,321.634 219.545,324.663 221.522,327.625 223.5,330.519 225.477,333.347 227.455,336.106 229.432,338.799 231.409,341.424 233.386,343.981 235.364,346.472 237.341,348.895 239.318,351.25 241.295,353.539 243.272,355.759 245.25,357.913 247.227,359.999 249.205,362.018 251.182,363.969 253.159,365.853 255.136,367.67 257.114,369.419 259.091,371.101 261.068,372.716 263.045,374.263 265.022,375.743 267,377.155 268.977,378.5 270.955,379.778 272.932,380.989 274.909,382.131 276.886,383.207 278.864,384.215 280.841,385.156 282.818,386.03 284.795,386.836 286.772,387.575 288.75,388.247 290.727,388.851 292.705,389.387 294.682,389.856 296.659,390.259 298.636,390.593 300.614,390.86 302.591,391.061 304.568,391.193 306.545,391.258 308.523,391.256 310.5,391.187 312.477,391.049 314.455,390.845 316.432,390.574 318.409,390.234 320.386,389.828 322.364,389.354 324.341,388.813 326.318,388.205 328.295,387.529 330.273,386.786 332.25,385.975 334.227,385.097 336.205,384.152 338.182,383.139 340.159,382.059 342.136,380.912 344.114,379.697 346.091,378.415 348.068,377.065 350.045,375.648 352.023,374.164 354,372.613 355.978,370.994 357.955,369.307 359.932,367.554 361.909,365.732 363.886,363.844 365.864,361.888 367.841,359.865 369.818,357.775 371.795,355.617 373.773,353.392 375.75,351.099 377.728,348.739 379.705,346.312 381.682,343.817 383.659,341.255 385.636,338.625 387.614,335.929 389.591,333.165 391.568,330.333 393.545,327.434 395.523,324.468 397.5,321.434 399.478,318.333 401.455,315.165 403.432,311.929 405.409,308.626 407.386,305.255 409.364,301.817 411.341,298.312 413.318,294.74 415.295,291.1 417.273,287.393 419.25,283.618 421.228,279.776 423.205,275.866 425.182,271.89 427.159,267.846 429.136,263.734 431.114,259.555 433.091,255.309 435.068,250.995 437.045,246.614 439.023,242.166 441,237.65 442.978,233.067 444.955,228.417 446.932,223.699 448.909,218.914 450.887,214.062 452.864,209.142 454.841,204.154 456.818,199.1 458.795,193.978 460.773,188.789 462.75,183.532 464.728,178.208 466.705,172.816 468.682,167.357 470.659,161.831 472.637,156.238 474.614,150.577 476.591,144.849 478.568,139.053 480.545,133.19 482.523,127.26 484.5,121.262 486.478,115.197 488.455,109.064 490.432,102.864 492.409,96.5972 494.387,90.2627 496.364,83.8608 498.341,77.3916 500.318,70.855 502.295,64.251 504.273,57.5796 506.25,50.8408 508.228,44.0347\"/>\n",
       "   <polyline fill=\"none\" stroke-width=\"2\" stroke=\"#ff0000\" stroke-linejoin=\"round\" stroke-linecap=\"butt\" points=\"330.273,425.533 330.273,44.0347\"/>\n",
       "   <polyline fill=\"none\" stroke-width=\"2\" stroke=\"#000000\" stroke-linejoin=\"round\" stroke-linecap=\"butt\" points=\"112.772,386.786 114.75,386.786 116.727,386.786 118.705,386.786 120.682,386.786 122.659,386.786 124.636,386.786 126.613,386.786 128.591,386.786 130.568,386.786 132.545,386.786 134.522,386.786 136.5,386.786 138.477,386.786 140.455,386.786 142.432,386.786 144.409,386.786 146.386,386.786 148.363,386.786 150.341,386.786 152.318,386.786 154.295,386.786 156.272,386.786 158.25,386.786 160.227,386.786 162.205,386.786 164.182,386.786 166.159,386.786 168.136,386.786 170.113,386.786 172.091,386.786 174.068,386.786 176.045,386.786 178.022,386.786 180,386.786 181.977,386.786 183.955,386.786 185.932,386.786 187.909,386.786 189.886,386.786 191.863,386.786 193.841,386.786 195.818,386.786 197.795,386.786 199.772,386.786 201.75,386.786 203.727,386.786 205.705,386.786 207.682,386.786 209.659,386.786 211.636,386.786 213.614,386.786 215.591,386.786 217.568,386.786 219.545,386.786 221.522,386.786 223.5,386.786 225.477,386.786 227.455,386.786 229.432,386.786 231.409,386.786 233.386,386.786 235.364,386.786 237.341,386.786 239.318,386.786 241.295,386.786 243.272,386.786 245.25,386.786 247.227,386.786 249.205,386.786 251.182,386.786 253.159,386.786 255.136,386.786 257.114,386.786 259.091,386.786 261.068,386.786 263.045,386.786 265.022,386.786 267,386.786 268.977,386.786 270.955,386.786 272.932,386.786 274.909,386.786 276.886,386.786 278.864,386.786 280.841,386.786 282.818,386.786 284.795,386.786 286.772,386.786 288.75,386.786 290.727,386.786 292.705,386.786 294.682,386.786 296.659,386.786 298.636,386.786 300.614,386.786 302.591,386.786 304.568,386.786 306.545,386.786 308.523,386.786 310.5,386.786 312.477,386.786 314.455,386.786 316.432,386.786 318.409,386.786 320.386,386.786 322.364,386.786 324.341,386.786 326.318,386.786 328.295,386.786 330.273,386.786 332.25,386.786 334.227,386.786 336.205,386.786 338.182,386.786 340.159,386.786 342.136,386.786 344.114,386.786 346.091,386.786 348.068,386.786 350.045,386.786 352.023,386.786 354,386.786 355.978,386.786 357.955,386.786 359.932,386.786 361.909,386.786 363.886,386.786 365.864,386.786 367.841,386.786 369.818,386.786 371.795,386.786 373.773,386.786 375.75,386.786 377.728,386.786 379.705,386.786 381.682,386.786 383.659,386.786 385.636,386.786 387.614,386.786 389.591,386.786 391.568,386.786 393.545,386.786 395.523,386.786 397.5,386.786 399.478,386.786 401.455,386.786 403.432,386.786 405.409,386.786 407.386,386.786 409.364,386.786 411.341,386.786 413.318,386.786 415.295,386.786 417.273,386.786 419.25,386.786 421.228,386.786 423.205,386.786 425.182,386.786 427.159,386.786 429.136,386.786 431.114,386.786 433.091,386.786 435.068,386.786 437.045,386.786 439.023,386.786 441,386.786 442.978,386.786 444.955,386.786 446.932,386.786 448.909,386.786 450.887,386.786 452.864,386.786 454.841,386.786 456.818,386.786 458.795,386.786 460.773,386.786 462.75,386.786 464.728,386.786 466.705,386.786 468.682,386.786 470.659,386.786 472.637,386.786 474.614,386.786 476.591,386.786 478.568,386.786 480.545,386.786 482.523,386.786 484.5,386.786 486.478,386.786 488.455,386.786 490.432,386.786 492.409,386.786 494.387,386.786 496.364,386.786 498.341,386.786 500.318,386.786 502.295,386.786 504.273,386.786 506.25,386.786 508.228,386.786\"/>\n",
       "  </g>\n",
       " </g>\n",
       "</svg>"
      ],
      "text/plain": [
       "<IPython.core.display.SVG object>"
      ]
     },
     "metadata": {},
     "output_type": "display_data"
    }
   ],
   "source": [
    "%plot -s 600,500 -f 'svg'\n",
    "\n",
    "x=[-10*t:t/10:t*10];\n",
    "y=a*x.^2+b.*x+c;\n",
    "\n",
    "plot(x,y,'b-','linewidth',2)\n",
    "hold on\n",
    "plot([t t],[min(y)-0.1*max(y) max(y)],'r','linewidth',2)\n",
    "plot(x,zeros(size(x)),'k','linewidth',2)"
   ]
  },
  {
   "cell_type": "code",
   "execution_count": null,
   "metadata": {},
   "outputs": [],
   "source": []
  }
 ],
 "metadata": {
  "kernelspec": {
   "display_name": "Octave",
   "language": "octave",
   "name": "octave"
  },
  "language_info": {
   "file_extension": ".m",
   "help_links": [
    {
     "text": "GNU Octave",
     "url": "https://www.gnu.org/software/octave/support.html"
    },
    {
     "text": "Octave Kernel",
     "url": "https://github.com/Calysto/octave_kernel"
    },
    {
     "text": "MetaKernel Magics",
     "url": "https://metakernel.readthedocs.io/en/latest/source/README.html"
    }
   ],
   "mimetype": "text/x-octave",
   "name": "octave",
   "version": "\u001b[?2004h"
  }
 },
 "nbformat": 4,
 "nbformat_minor": 4
}
